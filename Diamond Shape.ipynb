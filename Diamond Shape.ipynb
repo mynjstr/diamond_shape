{
 "cells": [
  {
   "cell_type": "markdown",
   "id": "316f8bdc-a9c1-445c-851c-fc387f0bd907",
   "metadata": {},
   "source": [
    "# Diamond Shape Function"
   ]
  },
  {
   "cell_type": "markdown",
   "id": "846ddc8e-5d83-48d2-b30a-bbaf4f1041ac",
   "metadata": {},
   "source": [
    "#### This python function named print_diamond takes an odd integer n as an argument and prints a diamond shape with width of n using * character."
   ]
  },
  {
   "cell_type": "code",
   "execution_count": null,
   "id": "3aedfca7-c2a2-415d-9878-0f3be9da45c7",
   "metadata": {},
   "outputs": [],
   "source": [
    "def print_diamond(n):\n",
    "    if n % 2 == 0:\n",
    "        print(\"Please provide an odd integer.\")\n",
    "        return \n",
    "    for x in range (n // 2 + 1):\n",
    "        print(\" \" * (n // 2 - x) + \"*\" * (2 * x + 1))\n",
    "    for y in reversed(range (n // 2 + 1)):\n",
    "        print(\" \" * (n // 2 - y) + \"*\" * (2 * y + 1))\n",
    "\n",
    "print_diamond(5)"
   ]
  }
 ],
 "metadata": {
  "kernelspec": {
   "display_name": "Python 3 (ipykernel)",
   "language": "python",
   "name": "python3"
  },
  "language_info": {
   "codemirror_mode": {
    "name": "ipython",
    "version": 3
   },
   "file_extension": ".py",
   "mimetype": "text/x-python",
   "name": "python",
   "nbconvert_exporter": "python",
   "pygments_lexer": "ipython3",
   "version": "3.12.1"
  }
 },
 "nbformat": 4,
 "nbformat_minor": 5
}
